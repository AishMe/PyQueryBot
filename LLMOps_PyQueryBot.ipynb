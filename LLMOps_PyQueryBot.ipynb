{
  "nbformat": 4,
  "nbformat_minor": 0,
  "metadata": {
    "colab": {
      "provenance": [],
      "collapsed_sections": [
        "W3kJqzdl3JTo",
        "yjhTaHNZ3ips",
        "llFzKRvh36mz",
        "sF1Pj2d64mP5",
        "_Z9g49Qe43h0",
        "zFnCK3tX4-xo",
        "jXMWLyA05gSG"
      ]
    },
    "kernelspec": {
      "name": "python3",
      "display_name": "Python 3"
    },
    "language_info": {
      "name": "python"
    }
  },
  "cells": [
    {
      "cell_type": "markdown",
      "source": [
        "# **Part 1: Data Exploration for Tuning a Foundation Model**"
      ],
      "metadata": {
        "id": "ya01bvwE2eQP"
      }
    },
    {
      "cell_type": "markdown",
      "source": [
        "### **Project environment setup**\n",
        "\n",
        "* Load credentials and relevant Python Libraries.\n",
        "* If you were running this notebook locally, you would first install Vertex AI. `!pip install google-cloud-aiplatform`"
      ],
      "metadata": {
        "id": "oKeWkFzO2bAv"
      }
    },
    {
      "cell_type": "code",
      "source": [
        "# !pip install python-dotenv\n",
        "# !pip install google-cloud-aiplatform"
      ],
      "metadata": {
        "colab": {
          "base_uri": "https://localhost:8080/"
        },
        "id": "jjcsbVchAzkz",
        "outputId": "b80bebab-4e26-4902-c859-3c869ccb0f73"
      },
      "execution_count": 11,
      "outputs": [
        {
          "output_type": "stream",
          "name": "stdout",
          "text": [
            "Collecting python-dotenv\n",
            "  Downloading python_dotenv-1.0.1-py3-none-any.whl.metadata (23 kB)\n",
            "Downloading python_dotenv-1.0.1-py3-none-any.whl (19 kB)\n",
            "Installing collected packages: python-dotenv\n",
            "Successfully installed python-dotenv-1.0.1\n"
          ]
        }
      ]
    },
    {
      "cell_type": "code",
      "source": [
        "import os\n",
        "from dotenv import load_dotenv\n",
        "import json\n",
        "import base64\n",
        "from google.auth.transport.requests import Request\n",
        "from google.oauth2.service_account import Credentials\n",
        "from google.cloud import bigquery\n",
        "\n",
        "def authenticate():\n",
        "    # Load .env\n",
        "    load_dotenv()\n",
        "\n",
        "    # Decode key and store in .JSON\n",
        "    SERVICE_ACCOUNT_KEY_STRING_B64 = os.getenv('SERVICE_ACCOUNT_KEY')\n",
        "    SERVICE_ACCOUNT_KEY_BYTES_B64 = SERVICE_ACCOUNT_KEY_STRING_B64.encode(\"ascii\")\n",
        "    SERVICE_ACCOUNT_KEY_STRING_BYTES = base64.b64decode(SERVICE_ACCOUNT_KEY_BYTES_B64)\n",
        "    SERVICE_ACCOUNT_KEY_STRING = SERVICE_ACCOUNT_KEY_STRING_BYTES.decode(\"ascii\")\n",
        "\n",
        "    SERVICE_ACCOUNT_KEY = json.loads(SERVICE_ACCOUNT_KEY_STRING)\n",
        "\n",
        "    # Create credentials based on key from service account\n",
        "    credentials = Credentials.from_service_account_info(\n",
        "        SERVICE_ACCOUNT_KEY,\n",
        "        scopes=['https://www.googleapis.com/auth/cloud-platform'])\n",
        "\n",
        "    if credentials.expired:\n",
        "        credentials.refresh(Request())\n",
        "\n",
        "    # Set project ID according to environment variable\n",
        "    PROJECT_ID = os.getenv('PROJECT_ID')\n",
        "\n",
        "    return credentials, PROJECT_ID\n",
        "\n",
        "# Authenticate and initialize BigQuery client\n",
        "credentials, PROJECT_ID = authenticate()\n",
        "bq_client = bigquery.Client(project=PROJECT_ID, credentials=credentials)"
      ],
      "metadata": {
        "id": "gQc1DcFoAuvM"
      },
      "execution_count": 42,
      "outputs": []
    },
    {
      "cell_type": "code",
      "source": [
        "import sys\n",
        "sys.path.append('/content/utils.py')"
      ],
      "metadata": {
        "id": "KA6PGSrrD01o"
      },
      "execution_count": 43,
      "outputs": []
    },
    {
      "cell_type": "code",
      "source": [
        "# import utils\n",
        "# credentials, PROJECT_ID = authenticate()\n",
        "REGION = \"us-central1\""
      ],
      "metadata": {
        "id": "Axc8U0e323OD"
      },
      "execution_count": 44,
      "outputs": []
    },
    {
      "cell_type": "markdown",
      "source": [
        "Import the Vertex AI SDK.\n",
        "The library helps to interact with the Vertex AI services in the cloud.\n",
        "Initialize it."
      ],
      "metadata": {
        "id": "vRXsC3ho243N"
      }
    },
    {
      "cell_type": "code",
      "source": [
        "import vertexai\n",
        "\n",
        "vertexai.init(project = PROJECT_ID,\n",
        "              location = REGION,\n",
        "              credentials = credentials)"
      ],
      "metadata": {
        "id": "sfdPw_8g29fm"
      },
      "execution_count": 45,
      "outputs": []
    },
    {
      "cell_type": "markdown",
      "source": [
        "Import BigQuery to use as your data warehouse.\n",
        "Initialize the client to start interacting with the data warehouse, send SQL and retrieve data into the notebook."
      ],
      "metadata": {
        "id": "1NRPX3Tt3CCX"
      }
    },
    {
      "cell_type": "code",
      "source": [
        "# from google.cloud import bigquery\n",
        "# bq_client = bigquery.Client(project=PROJECT_ID, credentials = credentials)"
      ],
      "metadata": {
        "id": "WzD53iyJ3EMU"
      },
      "execution_count": 46,
      "outputs": []
    },
    {
      "cell_type": "markdown",
      "source": [
        "### **Stack Overflow Public Dataset**\n",
        "\n",
        "* You will use Stack Overflow Data on BigQuery Public Datasets.\n",
        "The datasets include questions, answers and metadata related to Stack Overflow questions. Within this dataset, there are tables with data.\n",
        "\n",
        "* Create a SQL query."
      ],
      "metadata": {
        "id": "W3kJqzdl3JTo"
      }
    },
    {
      "cell_type": "code",
      "source": [
        "QUERY_TABLES = \"\"\"\n",
        "SELECT\n",
        "  table_name\n",
        "FROM\n",
        "  `bigquery-public-data.stackoverflow.INFORMATION_SCHEMA.TABLES`\n",
        "\"\"\""
      ],
      "metadata": {
        "id": "ua8n2HUU3TpT"
      },
      "execution_count": 47,
      "outputs": []
    },
    {
      "cell_type": "markdown",
      "source": [
        "The query is asking to retrieve table_name of all the TABLES\n",
        "Use the client to send your SQL and retrieve the data (tables names)."
      ],
      "metadata": {
        "id": "8mRG0yO83WaU"
      }
    },
    {
      "cell_type": "code",
      "source": [
        "query_job = bq_client.query(QUERY_TABLES)\n",
        "\n",
        "for row in query_job:\n",
        "    for value in row.values():\n",
        "        print(value)"
      ],
      "metadata": {
        "colab": {
          "base_uri": "https://localhost:8080/"
        },
        "id": "XeNa7dYe3fck",
        "outputId": "efc1be09-8332-45d7-f2c0-8ffa55b7d22b"
      },
      "execution_count": 49,
      "outputs": [
        {
          "output_type": "stream",
          "name": "stdout",
          "text": [
            "posts_answers\n",
            "users\n",
            "posts_orphaned_tag_wiki\n",
            "posts_tag_wiki\n",
            "stackoverflow_posts\n",
            "posts_questions\n",
            "comments\n",
            "posts_tag_wiki_excerpt\n",
            "posts_wiki_placeholder\n",
            "posts_privilege_wiki\n",
            "post_history\n",
            "badges\n",
            "post_links\n",
            "tags\n",
            "votes\n",
            "posts_moderator_nomination\n"
          ]
        }
      ]
    },
    {
      "cell_type": "markdown",
      "source": [
        "### **Data Retrieval**\n",
        "\n",
        "* You'll fetch some data from the data warehouse and store it in Pandas dataframe for visualization.\n",
        "\n",
        "* Select all columns from  posts_questions and put the LIMIT as 3."
      ],
      "metadata": {
        "id": "yjhTaHNZ3ips"
      }
    },
    {
      "cell_type": "code",
      "source": [
        "INSPECT_QUERY = \"\"\"\n",
        "SELECT\n",
        "    *\n",
        "FROM\n",
        "    `bigquery-public-data.stackoverflow.posts_questions`\n",
        "LIMIT 3\n",
        "\"\"\""
      ],
      "metadata": {
        "id": "qcdYR6xp3uRa"
      },
      "execution_count": 50,
      "outputs": []
    },
    {
      "cell_type": "code",
      "source": [
        "import pandas as pd\n",
        "\n",
        "query_job = bq_client.query(INSPECT_QUERY)"
      ],
      "metadata": {
        "id": "2s0dRZ6G3wgz"
      },
      "execution_count": 51,
      "outputs": []
    },
    {
      "cell_type": "markdown",
      "source": [
        "Take the results of the query --> create an arrow table (which is part of Apache Framework) --> which goes into a Pandas dataframe.\n",
        "This allows for data to be in a format which is easier to read and explore with Pandas."
      ],
      "metadata": {
        "id": "OUHPrtfQ3ysr"
      }
    },
    {
      "cell_type": "code",
      "source": [
        "stack_overflow_df = query_job\\\n",
        "    .result()\\\n",
        "    .to_arrow()\\\n",
        "    .to_pandas()\n",
        "stack_overflow_df.head()"
      ],
      "metadata": {
        "colab": {
          "base_uri": "https://localhost:8080/",
          "height": 332
        },
        "id": "U6zItksr3yR-",
        "outputId": "f730ce9a-481c-46a1-8719-8afa35dbdd44"
      },
      "execution_count": 52,
      "outputs": [
        {
          "output_type": "execute_result",
          "data": {
            "text/plain": [
              "       id                                      title  \\\n",
              "0  320268  Html.ActionLink doesn’t render # properly   \n",
              "1  324003                        Primitive recursion   \n",
              "2  390605                         While vs. Do While   \n",
              "\n",
              "                                                body  accepted_answer_id  \\\n",
              "0  <p>When using Html.ActionLink passing a string...                 NaN   \n",
              "1  <p>how  will i define the function 'simplify' ...                 NaN   \n",
              "2  <p>I've seen both the blocks of code in use se...            390608.0   \n",
              "\n",
              "   answer_count  comment_count community_owned_date  \\\n",
              "0             0              0                  NaT   \n",
              "1             0              0                  NaT   \n",
              "2             0              0                  NaT   \n",
              "\n",
              "                     creation_date  favorite_count  \\\n",
              "0 2008-11-26 10:42:37.477000+00:00               0   \n",
              "1 2008-11-27 15:12:37.497000+00:00               0   \n",
              "2 2008-12-24 01:49:54.230000+00:00               2   \n",
              "\n",
              "                last_activity_date                   last_edit_date  \\\n",
              "0 2009-02-06 20:13:54.370000+00:00                              NaT   \n",
              "1 2012-09-25 19:54:40.597000+00:00 2012-09-25 19:54:40.597000+00:00   \n",
              "2 2008-12-24 03:08:55.897000+00:00                              NaT   \n",
              "\n",
              "  last_editor_display_name  last_editor_user_id owner_display_name  \\\n",
              "0                     None                  NaN              Paulo   \n",
              "1                   Marcin               1288.0               None   \n",
              "2                     None                  NaN          Unkwntech   \n",
              "\n",
              "   owner_user_id parent_id  post_type_id  score  \\\n",
              "0            NaN      None             1      0   \n",
              "1        41000.0      None             1      0   \n",
              "2          115.0      None             1      0   \n",
              "\n",
              "                                                tags  view_count  \n",
              "0                                        asp.net-mvc         390  \n",
              "1  haskell|lambda|functional-programming|lambda-c...         497  \n",
              "2                            language-agnostic|loops       11262  "
            ],
            "text/html": [
              "\n",
              "  <div id=\"df-27d6419d-1497-4e0b-9173-7e8a9bb049c0\" class=\"colab-df-container\">\n",
              "    <div>\n",
              "<style scoped>\n",
              "    .dataframe tbody tr th:only-of-type {\n",
              "        vertical-align: middle;\n",
              "    }\n",
              "\n",
              "    .dataframe tbody tr th {\n",
              "        vertical-align: top;\n",
              "    }\n",
              "\n",
              "    .dataframe thead th {\n",
              "        text-align: right;\n",
              "    }\n",
              "</style>\n",
              "<table border=\"1\" class=\"dataframe\">\n",
              "  <thead>\n",
              "    <tr style=\"text-align: right;\">\n",
              "      <th></th>\n",
              "      <th>id</th>\n",
              "      <th>title</th>\n",
              "      <th>body</th>\n",
              "      <th>accepted_answer_id</th>\n",
              "      <th>answer_count</th>\n",
              "      <th>comment_count</th>\n",
              "      <th>community_owned_date</th>\n",
              "      <th>creation_date</th>\n",
              "      <th>favorite_count</th>\n",
              "      <th>last_activity_date</th>\n",
              "      <th>last_edit_date</th>\n",
              "      <th>last_editor_display_name</th>\n",
              "      <th>last_editor_user_id</th>\n",
              "      <th>owner_display_name</th>\n",
              "      <th>owner_user_id</th>\n",
              "      <th>parent_id</th>\n",
              "      <th>post_type_id</th>\n",
              "      <th>score</th>\n",
              "      <th>tags</th>\n",
              "      <th>view_count</th>\n",
              "    </tr>\n",
              "  </thead>\n",
              "  <tbody>\n",
              "    <tr>\n",
              "      <th>0</th>\n",
              "      <td>320268</td>\n",
              "      <td>Html.ActionLink doesn’t render # properly</td>\n",
              "      <td>&lt;p&gt;When using Html.ActionLink passing a string...</td>\n",
              "      <td>NaN</td>\n",
              "      <td>0</td>\n",
              "      <td>0</td>\n",
              "      <td>NaT</td>\n",
              "      <td>2008-11-26 10:42:37.477000+00:00</td>\n",
              "      <td>0</td>\n",
              "      <td>2009-02-06 20:13:54.370000+00:00</td>\n",
              "      <td>NaT</td>\n",
              "      <td>None</td>\n",
              "      <td>NaN</td>\n",
              "      <td>Paulo</td>\n",
              "      <td>NaN</td>\n",
              "      <td>None</td>\n",
              "      <td>1</td>\n",
              "      <td>0</td>\n",
              "      <td>asp.net-mvc</td>\n",
              "      <td>390</td>\n",
              "    </tr>\n",
              "    <tr>\n",
              "      <th>1</th>\n",
              "      <td>324003</td>\n",
              "      <td>Primitive recursion</td>\n",
              "      <td>&lt;p&gt;how  will i define the function 'simplify' ...</td>\n",
              "      <td>NaN</td>\n",
              "      <td>0</td>\n",
              "      <td>0</td>\n",
              "      <td>NaT</td>\n",
              "      <td>2008-11-27 15:12:37.497000+00:00</td>\n",
              "      <td>0</td>\n",
              "      <td>2012-09-25 19:54:40.597000+00:00</td>\n",
              "      <td>2012-09-25 19:54:40.597000+00:00</td>\n",
              "      <td>Marcin</td>\n",
              "      <td>1288.0</td>\n",
              "      <td>None</td>\n",
              "      <td>41000.0</td>\n",
              "      <td>None</td>\n",
              "      <td>1</td>\n",
              "      <td>0</td>\n",
              "      <td>haskell|lambda|functional-programming|lambda-c...</td>\n",
              "      <td>497</td>\n",
              "    </tr>\n",
              "    <tr>\n",
              "      <th>2</th>\n",
              "      <td>390605</td>\n",
              "      <td>While vs. Do While</td>\n",
              "      <td>&lt;p&gt;I've seen both the blocks of code in use se...</td>\n",
              "      <td>390608.0</td>\n",
              "      <td>0</td>\n",
              "      <td>0</td>\n",
              "      <td>NaT</td>\n",
              "      <td>2008-12-24 01:49:54.230000+00:00</td>\n",
              "      <td>2</td>\n",
              "      <td>2008-12-24 03:08:55.897000+00:00</td>\n",
              "      <td>NaT</td>\n",
              "      <td>None</td>\n",
              "      <td>NaN</td>\n",
              "      <td>Unkwntech</td>\n",
              "      <td>115.0</td>\n",
              "      <td>None</td>\n",
              "      <td>1</td>\n",
              "      <td>0</td>\n",
              "      <td>language-agnostic|loops</td>\n",
              "      <td>11262</td>\n",
              "    </tr>\n",
              "  </tbody>\n",
              "</table>\n",
              "</div>\n",
              "    <div class=\"colab-df-buttons\">\n",
              "\n",
              "  <div class=\"colab-df-container\">\n",
              "    <button class=\"colab-df-convert\" onclick=\"convertToInteractive('df-27d6419d-1497-4e0b-9173-7e8a9bb049c0')\"\n",
              "            title=\"Convert this dataframe to an interactive table.\"\n",
              "            style=\"display:none;\">\n",
              "\n",
              "  <svg xmlns=\"http://www.w3.org/2000/svg\" height=\"24px\" viewBox=\"0 -960 960 960\">\n",
              "    <path d=\"M120-120v-720h720v720H120Zm60-500h600v-160H180v160Zm220 220h160v-160H400v160Zm0 220h160v-160H400v160ZM180-400h160v-160H180v160Zm440 0h160v-160H620v160ZM180-180h160v-160H180v160Zm440 0h160v-160H620v160Z\"/>\n",
              "  </svg>\n",
              "    </button>\n",
              "\n",
              "  <style>\n",
              "    .colab-df-container {\n",
              "      display:flex;\n",
              "      gap: 12px;\n",
              "    }\n",
              "\n",
              "    .colab-df-convert {\n",
              "      background-color: #E8F0FE;\n",
              "      border: none;\n",
              "      border-radius: 50%;\n",
              "      cursor: pointer;\n",
              "      display: none;\n",
              "      fill: #1967D2;\n",
              "      height: 32px;\n",
              "      padding: 0 0 0 0;\n",
              "      width: 32px;\n",
              "    }\n",
              "\n",
              "    .colab-df-convert:hover {\n",
              "      background-color: #E2EBFA;\n",
              "      box-shadow: 0px 1px 2px rgba(60, 64, 67, 0.3), 0px 1px 3px 1px rgba(60, 64, 67, 0.15);\n",
              "      fill: #174EA6;\n",
              "    }\n",
              "\n",
              "    .colab-df-buttons div {\n",
              "      margin-bottom: 4px;\n",
              "    }\n",
              "\n",
              "    [theme=dark] .colab-df-convert {\n",
              "      background-color: #3B4455;\n",
              "      fill: #D2E3FC;\n",
              "    }\n",
              "\n",
              "    [theme=dark] .colab-df-convert:hover {\n",
              "      background-color: #434B5C;\n",
              "      box-shadow: 0px 1px 3px 1px rgba(0, 0, 0, 0.15);\n",
              "      filter: drop-shadow(0px 1px 2px rgba(0, 0, 0, 0.3));\n",
              "      fill: #FFFFFF;\n",
              "    }\n",
              "  </style>\n",
              "\n",
              "    <script>\n",
              "      const buttonEl =\n",
              "        document.querySelector('#df-27d6419d-1497-4e0b-9173-7e8a9bb049c0 button.colab-df-convert');\n",
              "      buttonEl.style.display =\n",
              "        google.colab.kernel.accessAllowed ? 'block' : 'none';\n",
              "\n",
              "      async function convertToInteractive(key) {\n",
              "        const element = document.querySelector('#df-27d6419d-1497-4e0b-9173-7e8a9bb049c0');\n",
              "        const dataTable =\n",
              "          await google.colab.kernel.invokeFunction('convertToInteractive',\n",
              "                                                    [key], {});\n",
              "        if (!dataTable) return;\n",
              "\n",
              "        const docLinkHtml = 'Like what you see? Visit the ' +\n",
              "          '<a target=\"_blank\" href=https://colab.research.google.com/notebooks/data_table.ipynb>data table notebook</a>'\n",
              "          + ' to learn more about interactive tables.';\n",
              "        element.innerHTML = '';\n",
              "        dataTable['output_type'] = 'display_data';\n",
              "        await google.colab.output.renderOutput(dataTable, element);\n",
              "        const docLink = document.createElement('div');\n",
              "        docLink.innerHTML = docLinkHtml;\n",
              "        element.appendChild(docLink);\n",
              "      }\n",
              "    </script>\n",
              "  </div>\n",
              "\n",
              "\n",
              "<div id=\"df-c876b9af-c783-4e13-8b56-051c8546860e\">\n",
              "  <button class=\"colab-df-quickchart\" onclick=\"quickchart('df-c876b9af-c783-4e13-8b56-051c8546860e')\"\n",
              "            title=\"Suggest charts\"\n",
              "            style=\"display:none;\">\n",
              "\n",
              "<svg xmlns=\"http://www.w3.org/2000/svg\" height=\"24px\"viewBox=\"0 0 24 24\"\n",
              "     width=\"24px\">\n",
              "    <g>\n",
              "        <path d=\"M19 3H5c-1.1 0-2 .9-2 2v14c0 1.1.9 2 2 2h14c1.1 0 2-.9 2-2V5c0-1.1-.9-2-2-2zM9 17H7v-7h2v7zm4 0h-2V7h2v10zm4 0h-2v-4h2v4z\"/>\n",
              "    </g>\n",
              "</svg>\n",
              "  </button>\n",
              "\n",
              "<style>\n",
              "  .colab-df-quickchart {\n",
              "      --bg-color: #E8F0FE;\n",
              "      --fill-color: #1967D2;\n",
              "      --hover-bg-color: #E2EBFA;\n",
              "      --hover-fill-color: #174EA6;\n",
              "      --disabled-fill-color: #AAA;\n",
              "      --disabled-bg-color: #DDD;\n",
              "  }\n",
              "\n",
              "  [theme=dark] .colab-df-quickchart {\n",
              "      --bg-color: #3B4455;\n",
              "      --fill-color: #D2E3FC;\n",
              "      --hover-bg-color: #434B5C;\n",
              "      --hover-fill-color: #FFFFFF;\n",
              "      --disabled-bg-color: #3B4455;\n",
              "      --disabled-fill-color: #666;\n",
              "  }\n",
              "\n",
              "  .colab-df-quickchart {\n",
              "    background-color: var(--bg-color);\n",
              "    border: none;\n",
              "    border-radius: 50%;\n",
              "    cursor: pointer;\n",
              "    display: none;\n",
              "    fill: var(--fill-color);\n",
              "    height: 32px;\n",
              "    padding: 0;\n",
              "    width: 32px;\n",
              "  }\n",
              "\n",
              "  .colab-df-quickchart:hover {\n",
              "    background-color: var(--hover-bg-color);\n",
              "    box-shadow: 0 1px 2px rgba(60, 64, 67, 0.3), 0 1px 3px 1px rgba(60, 64, 67, 0.15);\n",
              "    fill: var(--button-hover-fill-color);\n",
              "  }\n",
              "\n",
              "  .colab-df-quickchart-complete:disabled,\n",
              "  .colab-df-quickchart-complete:disabled:hover {\n",
              "    background-color: var(--disabled-bg-color);\n",
              "    fill: var(--disabled-fill-color);\n",
              "    box-shadow: none;\n",
              "  }\n",
              "\n",
              "  .colab-df-spinner {\n",
              "    border: 2px solid var(--fill-color);\n",
              "    border-color: transparent;\n",
              "    border-bottom-color: var(--fill-color);\n",
              "    animation:\n",
              "      spin 1s steps(1) infinite;\n",
              "  }\n",
              "\n",
              "  @keyframes spin {\n",
              "    0% {\n",
              "      border-color: transparent;\n",
              "      border-bottom-color: var(--fill-color);\n",
              "      border-left-color: var(--fill-color);\n",
              "    }\n",
              "    20% {\n",
              "      border-color: transparent;\n",
              "      border-left-color: var(--fill-color);\n",
              "      border-top-color: var(--fill-color);\n",
              "    }\n",
              "    30% {\n",
              "      border-color: transparent;\n",
              "      border-left-color: var(--fill-color);\n",
              "      border-top-color: var(--fill-color);\n",
              "      border-right-color: var(--fill-color);\n",
              "    }\n",
              "    40% {\n",
              "      border-color: transparent;\n",
              "      border-right-color: var(--fill-color);\n",
              "      border-top-color: var(--fill-color);\n",
              "    }\n",
              "    60% {\n",
              "      border-color: transparent;\n",
              "      border-right-color: var(--fill-color);\n",
              "    }\n",
              "    80% {\n",
              "      border-color: transparent;\n",
              "      border-right-color: var(--fill-color);\n",
              "      border-bottom-color: var(--fill-color);\n",
              "    }\n",
              "    90% {\n",
              "      border-color: transparent;\n",
              "      border-bottom-color: var(--fill-color);\n",
              "    }\n",
              "  }\n",
              "</style>\n",
              "\n",
              "  <script>\n",
              "    async function quickchart(key) {\n",
              "      const quickchartButtonEl =\n",
              "        document.querySelector('#' + key + ' button');\n",
              "      quickchartButtonEl.disabled = true;  // To prevent multiple clicks.\n",
              "      quickchartButtonEl.classList.add('colab-df-spinner');\n",
              "      try {\n",
              "        const charts = await google.colab.kernel.invokeFunction(\n",
              "            'suggestCharts', [key], {});\n",
              "      } catch (error) {\n",
              "        console.error('Error during call to suggestCharts:', error);\n",
              "      }\n",
              "      quickchartButtonEl.classList.remove('colab-df-spinner');\n",
              "      quickchartButtonEl.classList.add('colab-df-quickchart-complete');\n",
              "    }\n",
              "    (() => {\n",
              "      let quickchartButtonEl =\n",
              "        document.querySelector('#df-c876b9af-c783-4e13-8b56-051c8546860e button');\n",
              "      quickchartButtonEl.style.display =\n",
              "        google.colab.kernel.accessAllowed ? 'block' : 'none';\n",
              "    })();\n",
              "  </script>\n",
              "</div>\n",
              "\n",
              "    </div>\n",
              "  </div>\n"
            ],
            "application/vnd.google.colaboratory.intrinsic+json": {
              "type": "dataframe",
              "variable_name": "stack_overflow_df",
              "repr_error": "Out of range float values are not JSON compliant: nan"
            }
          },
          "metadata": {},
          "execution_count": 52
        }
      ]
    },
    {
      "cell_type": "markdown",
      "source": [
        "### **Dealing with Large Datasets**\n",
        "* Large datasets for LLMs often don't fit into memory.\n",
        "* Select all of the columns and rows of the table posts_questions."
      ],
      "metadata": {
        "id": "llFzKRvh36mz"
      }
    },
    {
      "cell_type": "code",
      "source": [
        "QUERY_ALL = \"\"\"\n",
        "SELECT\n",
        "    *\n",
        "FROM\n",
        "    `bigquery-public-data.stackoverflow.posts_questions` q\n",
        "\"\"\"\n",
        "\n",
        "query_job = bq_client.query(QUERY_ALL)"
      ],
      "metadata": {
        "id": "lQ1Tgxe64C9v"
      },
      "execution_count": 53,
      "outputs": []
    },
    {
      "cell_type": "code",
      "source": [
        "try:\n",
        "    stack_overflow_df = query_job\\\n",
        "    .result()\\\n",
        "    .to_arrow()\\\n",
        "    .to_pandas()\n",
        "except Exception as e:\n",
        "    print('The DataFrame is too large to load into memory.', e)"
      ],
      "metadata": {
        "colab": {
          "base_uri": "https://localhost:8080/"
        },
        "id": "WPLOW5eB4Hmx",
        "outputId": "9d3885b6-ab59-4561-bdc6-0f28d86e42f7"
      },
      "execution_count": 54,
      "outputs": [
        {
          "output_type": "stream",
          "name": "stdout",
          "text": [
            "The DataFrame is too large to load into memory. 403 GET https://bigquery.googleapis.com/bigquery/v2/projects/llmops-project-438807/queries/d27fcbc5-4de7-4669-9622-8a7d9fe4c62c?maxResults=0&location=US&prettyPrint=false: Response too large to return. Consider specifying a destination table in your job configuration. For more details, see https://cloud.google.com/bigquery/troubleshooting-errors\n",
            "\n",
            "Location: US\n",
            "Job ID: d27fcbc5-4de7-4669-9622-8a7d9fe4c62c\n",
            "\n"
          ]
        }
      ]
    },
    {
      "cell_type": "markdown",
      "source": [
        "**Note:**\n",
        "\n",
        "* The data is too large to return, as it is not fitting into memory.\n",
        "* Joining Tables and Query Optimization\n",
        "* When working with (large) data, query optimizing is needed in order to save time and resources.\n",
        "* Select questions as input_text (column 1), answers as output_text (column 2).\n",
        "* Take the questions from posts_questions and answers from posts_answers.\n",
        "* Join the questions and their corresponding accepted answers based on their same unique ID.\n",
        "* Making sure the question is about Python, and that it has an answer. And the date the question was posted is on or after 2020-01-01\n",
        "* Limit as 10,000"
      ],
      "metadata": {
        "id": "AhgJIAKJ4Moj"
      }
    },
    {
      "cell_type": "code",
      "source": [
        "QUERY = \"\"\"\n",
        "SELECT\n",
        "    CONCAT(q.title, q.body) as input_text,\n",
        "    a.body AS output_text\n",
        "FROM\n",
        "    `bigquery-public-data.stackoverflow.posts_questions` q\n",
        "JOIN\n",
        "    `bigquery-public-data.stackoverflow.posts_answers` a\n",
        "ON\n",
        "    q.accepted_answer_id = a.id\n",
        "WHERE\n",
        "    q.accepted_answer_id IS NOT NULL AND\n",
        "    REGEXP_CONTAINS(q.tags, \"python\") AND\n",
        "    a.creation_date >= \"2020-01-01\"\n",
        "LIMIT\n",
        "    10000\n",
        "\"\"\"\n",
        "\n",
        "query_job = bq_client.query(QUERY)"
      ],
      "metadata": {
        "id": "3VSh3lQb4aH2"
      },
      "execution_count": 55,
      "outputs": []
    },
    {
      "cell_type": "code",
      "source": [
        "stack_overflow_df = query_job.result()\\\n",
        "                        .to_arrow()\\\n",
        "                        .to_pandas()\n",
        "\n",
        "stack_overflow_df.head(2)"
      ],
      "metadata": {
        "colab": {
          "base_uri": "https://localhost:8080/",
          "height": 111
        },
        "id": "GDGCj2kh4ily",
        "outputId": "e4f798e8-0632-4a14-c4de-aa2aa8984a9a"
      },
      "execution_count": 56,
      "outputs": [
        {
          "output_type": "execute_result",
          "data": {
            "text/plain": [
              "                                          input_text  \\\n",
              "0  Turn PyCharm package back to a directory in Pr...   \n",
              "1  Pandas Select Rows from a dataframe with highe...   \n",
              "\n",
              "                                         output_text  \n",
              "0  <p>Right click the folder -&gt; Mark directory...  \n",
              "1  <p>use groupby and take the max</p>\\n<pre><cod...  "
            ],
            "text/html": [
              "\n",
              "  <div id=\"df-228beac4-5747-4a64-bea7-d5c395e3ab38\" class=\"colab-df-container\">\n",
              "    <div>\n",
              "<style scoped>\n",
              "    .dataframe tbody tr th:only-of-type {\n",
              "        vertical-align: middle;\n",
              "    }\n",
              "\n",
              "    .dataframe tbody tr th {\n",
              "        vertical-align: top;\n",
              "    }\n",
              "\n",
              "    .dataframe thead th {\n",
              "        text-align: right;\n",
              "    }\n",
              "</style>\n",
              "<table border=\"1\" class=\"dataframe\">\n",
              "  <thead>\n",
              "    <tr style=\"text-align: right;\">\n",
              "      <th></th>\n",
              "      <th>input_text</th>\n",
              "      <th>output_text</th>\n",
              "    </tr>\n",
              "  </thead>\n",
              "  <tbody>\n",
              "    <tr>\n",
              "      <th>0</th>\n",
              "      <td>Turn PyCharm package back to a directory in Pr...</td>\n",
              "      <td>&lt;p&gt;Right click the folder -&amp;gt; Mark directory...</td>\n",
              "    </tr>\n",
              "    <tr>\n",
              "      <th>1</th>\n",
              "      <td>Pandas Select Rows from a dataframe with highe...</td>\n",
              "      <td>&lt;p&gt;use groupby and take the max&lt;/p&gt;\\n&lt;pre&gt;&lt;cod...</td>\n",
              "    </tr>\n",
              "  </tbody>\n",
              "</table>\n",
              "</div>\n",
              "    <div class=\"colab-df-buttons\">\n",
              "\n",
              "  <div class=\"colab-df-container\">\n",
              "    <button class=\"colab-df-convert\" onclick=\"convertToInteractive('df-228beac4-5747-4a64-bea7-d5c395e3ab38')\"\n",
              "            title=\"Convert this dataframe to an interactive table.\"\n",
              "            style=\"display:none;\">\n",
              "\n",
              "  <svg xmlns=\"http://www.w3.org/2000/svg\" height=\"24px\" viewBox=\"0 -960 960 960\">\n",
              "    <path d=\"M120-120v-720h720v720H120Zm60-500h600v-160H180v160Zm220 220h160v-160H400v160Zm0 220h160v-160H400v160ZM180-400h160v-160H180v160Zm440 0h160v-160H620v160ZM180-180h160v-160H180v160Zm440 0h160v-160H620v160Z\"/>\n",
              "  </svg>\n",
              "    </button>\n",
              "\n",
              "  <style>\n",
              "    .colab-df-container {\n",
              "      display:flex;\n",
              "      gap: 12px;\n",
              "    }\n",
              "\n",
              "    .colab-df-convert {\n",
              "      background-color: #E8F0FE;\n",
              "      border: none;\n",
              "      border-radius: 50%;\n",
              "      cursor: pointer;\n",
              "      display: none;\n",
              "      fill: #1967D2;\n",
              "      height: 32px;\n",
              "      padding: 0 0 0 0;\n",
              "      width: 32px;\n",
              "    }\n",
              "\n",
              "    .colab-df-convert:hover {\n",
              "      background-color: #E2EBFA;\n",
              "      box-shadow: 0px 1px 2px rgba(60, 64, 67, 0.3), 0px 1px 3px 1px rgba(60, 64, 67, 0.15);\n",
              "      fill: #174EA6;\n",
              "    }\n",
              "\n",
              "    .colab-df-buttons div {\n",
              "      margin-bottom: 4px;\n",
              "    }\n",
              "\n",
              "    [theme=dark] .colab-df-convert {\n",
              "      background-color: #3B4455;\n",
              "      fill: #D2E3FC;\n",
              "    }\n",
              "\n",
              "    [theme=dark] .colab-df-convert:hover {\n",
              "      background-color: #434B5C;\n",
              "      box-shadow: 0px 1px 3px 1px rgba(0, 0, 0, 0.15);\n",
              "      filter: drop-shadow(0px 1px 2px rgba(0, 0, 0, 0.3));\n",
              "      fill: #FFFFFF;\n",
              "    }\n",
              "  </style>\n",
              "\n",
              "    <script>\n",
              "      const buttonEl =\n",
              "        document.querySelector('#df-228beac4-5747-4a64-bea7-d5c395e3ab38 button.colab-df-convert');\n",
              "      buttonEl.style.display =\n",
              "        google.colab.kernel.accessAllowed ? 'block' : 'none';\n",
              "\n",
              "      async function convertToInteractive(key) {\n",
              "        const element = document.querySelector('#df-228beac4-5747-4a64-bea7-d5c395e3ab38');\n",
              "        const dataTable =\n",
              "          await google.colab.kernel.invokeFunction('convertToInteractive',\n",
              "                                                    [key], {});\n",
              "        if (!dataTable) return;\n",
              "\n",
              "        const docLinkHtml = 'Like what you see? Visit the ' +\n",
              "          '<a target=\"_blank\" href=https://colab.research.google.com/notebooks/data_table.ipynb>data table notebook</a>'\n",
              "          + ' to learn more about interactive tables.';\n",
              "        element.innerHTML = '';\n",
              "        dataTable['output_type'] = 'display_data';\n",
              "        await google.colab.output.renderOutput(dataTable, element);\n",
              "        const docLink = document.createElement('div');\n",
              "        docLink.innerHTML = docLinkHtml;\n",
              "        element.appendChild(docLink);\n",
              "      }\n",
              "    </script>\n",
              "  </div>\n",
              "\n",
              "\n",
              "<div id=\"df-c23573a5-22ea-4644-938c-c2e304e7a396\">\n",
              "  <button class=\"colab-df-quickchart\" onclick=\"quickchart('df-c23573a5-22ea-4644-938c-c2e304e7a396')\"\n",
              "            title=\"Suggest charts\"\n",
              "            style=\"display:none;\">\n",
              "\n",
              "<svg xmlns=\"http://www.w3.org/2000/svg\" height=\"24px\"viewBox=\"0 0 24 24\"\n",
              "     width=\"24px\">\n",
              "    <g>\n",
              "        <path d=\"M19 3H5c-1.1 0-2 .9-2 2v14c0 1.1.9 2 2 2h14c1.1 0 2-.9 2-2V5c0-1.1-.9-2-2-2zM9 17H7v-7h2v7zm4 0h-2V7h2v10zm4 0h-2v-4h2v4z\"/>\n",
              "    </g>\n",
              "</svg>\n",
              "  </button>\n",
              "\n",
              "<style>\n",
              "  .colab-df-quickchart {\n",
              "      --bg-color: #E8F0FE;\n",
              "      --fill-color: #1967D2;\n",
              "      --hover-bg-color: #E2EBFA;\n",
              "      --hover-fill-color: #174EA6;\n",
              "      --disabled-fill-color: #AAA;\n",
              "      --disabled-bg-color: #DDD;\n",
              "  }\n",
              "\n",
              "  [theme=dark] .colab-df-quickchart {\n",
              "      --bg-color: #3B4455;\n",
              "      --fill-color: #D2E3FC;\n",
              "      --hover-bg-color: #434B5C;\n",
              "      --hover-fill-color: #FFFFFF;\n",
              "      --disabled-bg-color: #3B4455;\n",
              "      --disabled-fill-color: #666;\n",
              "  }\n",
              "\n",
              "  .colab-df-quickchart {\n",
              "    background-color: var(--bg-color);\n",
              "    border: none;\n",
              "    border-radius: 50%;\n",
              "    cursor: pointer;\n",
              "    display: none;\n",
              "    fill: var(--fill-color);\n",
              "    height: 32px;\n",
              "    padding: 0;\n",
              "    width: 32px;\n",
              "  }\n",
              "\n",
              "  .colab-df-quickchart:hover {\n",
              "    background-color: var(--hover-bg-color);\n",
              "    box-shadow: 0 1px 2px rgba(60, 64, 67, 0.3), 0 1px 3px 1px rgba(60, 64, 67, 0.15);\n",
              "    fill: var(--button-hover-fill-color);\n",
              "  }\n",
              "\n",
              "  .colab-df-quickchart-complete:disabled,\n",
              "  .colab-df-quickchart-complete:disabled:hover {\n",
              "    background-color: var(--disabled-bg-color);\n",
              "    fill: var(--disabled-fill-color);\n",
              "    box-shadow: none;\n",
              "  }\n",
              "\n",
              "  .colab-df-spinner {\n",
              "    border: 2px solid var(--fill-color);\n",
              "    border-color: transparent;\n",
              "    border-bottom-color: var(--fill-color);\n",
              "    animation:\n",
              "      spin 1s steps(1) infinite;\n",
              "  }\n",
              "\n",
              "  @keyframes spin {\n",
              "    0% {\n",
              "      border-color: transparent;\n",
              "      border-bottom-color: var(--fill-color);\n",
              "      border-left-color: var(--fill-color);\n",
              "    }\n",
              "    20% {\n",
              "      border-color: transparent;\n",
              "      border-left-color: var(--fill-color);\n",
              "      border-top-color: var(--fill-color);\n",
              "    }\n",
              "    30% {\n",
              "      border-color: transparent;\n",
              "      border-left-color: var(--fill-color);\n",
              "      border-top-color: var(--fill-color);\n",
              "      border-right-color: var(--fill-color);\n",
              "    }\n",
              "    40% {\n",
              "      border-color: transparent;\n",
              "      border-right-color: var(--fill-color);\n",
              "      border-top-color: var(--fill-color);\n",
              "    }\n",
              "    60% {\n",
              "      border-color: transparent;\n",
              "      border-right-color: var(--fill-color);\n",
              "    }\n",
              "    80% {\n",
              "      border-color: transparent;\n",
              "      border-right-color: var(--fill-color);\n",
              "      border-bottom-color: var(--fill-color);\n",
              "    }\n",
              "    90% {\n",
              "      border-color: transparent;\n",
              "      border-bottom-color: var(--fill-color);\n",
              "    }\n",
              "  }\n",
              "</style>\n",
              "\n",
              "  <script>\n",
              "    async function quickchart(key) {\n",
              "      const quickchartButtonEl =\n",
              "        document.querySelector('#' + key + ' button');\n",
              "      quickchartButtonEl.disabled = true;  // To prevent multiple clicks.\n",
              "      quickchartButtonEl.classList.add('colab-df-spinner');\n",
              "      try {\n",
              "        const charts = await google.colab.kernel.invokeFunction(\n",
              "            'suggestCharts', [key], {});\n",
              "      } catch (error) {\n",
              "        console.error('Error during call to suggestCharts:', error);\n",
              "      }\n",
              "      quickchartButtonEl.classList.remove('colab-df-spinner');\n",
              "      quickchartButtonEl.classList.add('colab-df-quickchart-complete');\n",
              "    }\n",
              "    (() => {\n",
              "      let quickchartButtonEl =\n",
              "        document.querySelector('#df-c23573a5-22ea-4644-938c-c2e304e7a396 button');\n",
              "      quickchartButtonEl.style.display =\n",
              "        google.colab.kernel.accessAllowed ? 'block' : 'none';\n",
              "    })();\n",
              "  </script>\n",
              "</div>\n",
              "\n",
              "    </div>\n",
              "  </div>\n"
            ],
            "application/vnd.google.colaboratory.intrinsic+json": {
              "type": "dataframe",
              "variable_name": "stack_overflow_df",
              "summary": "{\n  \"name\": \"stack_overflow_df\",\n  \"rows\": 10000,\n  \"fields\": [\n    {\n      \"column\": \"input_text\",\n      \"properties\": {\n        \"dtype\": \"string\",\n        \"num_unique_values\": 10000,\n        \"samples\": [\n          \"Discord.py and Webbrowser | How do I make the web browser open for only the author of the message?<pre><code>@client.command()\\nasync def open(ctx, pagelink):\\n    page = (pagelink)\\n    webbrowser.open(page, new=2)\\n    if pagelink == 'yt':\\n        page = ('https://www.youtube.com/')\\n        webbrowser.open(page, new=2)\\n        await ctx.send(f&quot;{page} opened, please check your web browser :&gt;&quot;)\\n    elif pagelink == 'reddit':\\n        page = (&quot;https://www.reddit.com/&quot;)\\n        webbrowser.open(page, new=2)\\n    elif pagelink == &quot;whatsapp&quot;:\\n        page = (&quot;https://web.whatsapp.com/&quot;)\\n        webbrowser.open(page, new=2)\\n    elif pagelink == &quot;pornhub&quot;:\\n        page = (&quot;pornhub.com&quot;)\\n        webbrowser.open(page, new=2)\\n</code></pre>\\n<p>Right now, this command only works for MY browser, how do I get it to work for everyone? Like open up the browser of the one using the command only?\\nFor example, my friend uses the command but it doesn't open anything for him, it only opens for me. Why??</p>\",\n          \"Reading text files into a python list of dictionary<p>I have a text file within it there are dictionaries in this format</p>\\n<pre><code>{'name':'Jack', 'age': 20}\\n{'name': 'Joseph', 'age': 13}\\n{'name':'anna', 'age': 54}\\n{'name': &quot;NK&quot;, 'age': 0}\\n</code></pre>\\n<p>I now want to read the text file into a list of dictionaries in the format</p>\\n<pre><code>[{'name':'Jack', 'age': 20}, {'name': 'Joseph', 'age': 13}, {'name':'anna', 'age': 54}, \\n{'name': &quot;NK&quot;, 'age': 0}]\\n</code></pre>\\n<p>So far, i used the below code</p>\\n<pre><code>val_cont_file = open('answers.txt', 'r')\\nf = val_cont_file.read()\\ntrain_answers = f.split(&quot;\\\\n&quot;)\\ntrain_answers = list(filter(None, train_answers))\\nval_cont_file.close()\\n</code></pre>\\n<p>and the output to this is</p>\\n<pre><code>[&quot;{'name':'Jack', 'age': 20}&quot;, &quot;{'name': 'Joseph', 'age': 13}&quot;, &quot;{'name':'anna', 'age': \\n54}&quot;, '{\\\\'name\\\\': &quot;NK&quot;, \\\\'age\\\\': 0}']\\n</code></pre>\\n<p>which is far from what i would want. How can i produce the desired output, I appreciate for the time and help</p>\",\n          \"find MAX,MIN and AVG of a set in Django<p>I have an object called <em>meter</em> and it has a set called <em>powerConsumptionReport_set</em>.</p>\\n<p>This is the models.py :</p>\\n<pre><code>class Meter(models.Model):\\nregion                  = models.PositiveSmallIntegerField(null=1)\\nIPAddress               = models.GenericIPAddressField(default=0,null=False,blank=False,unique=True)\\nPortNumber              = models.IntegerField(default=1024)\\nSerialNumber            = models.IntegerField(default=00000000,null=False,blank=False,unique=True)\\n\\nclass PowerConsumptionReport(models.Model):\\nmeter = models.ForeignKey(Meter, blank=True, null=True, on_delete=models.CASCADE)\\npower = models.FloatField()\\n</code></pre>\\n<p>I need to find Max value of <em>power</em> field from the <em>powerConsumptionReport_set</em> and display it in my template.</p>\\n<p>This is the DetailView i used to show each Meter :</p>\\n<pre><code>class MeterDetailView(DetailView):\\nmodel = Meter\\ntemplate_name = 'meter/specificMeter.html'\\n</code></pre>\\n<p>And the template is here:</p>\\n<pre><code>&lt;h1&gt;\\n*** here i want to show min value of the set **** - \\n{{ meter.powerconsumptionreport_set.first.power }} \\n&lt;/h1&gt;\\n</code></pre>\\n<p>how can i access Max,Min and AVG value of <strong>power</strong> field from the powerConsumptionReport_set related to each meter.</p>\\n<p>Cheers.</p>\"\n        ],\n        \"semantic_type\": \"\",\n        \"description\": \"\"\n      }\n    },\n    {\n      \"column\": \"output_text\",\n      \"properties\": {\n        \"dtype\": \"string\",\n        \"num_unique_values\": 10000,\n        \"samples\": [\n          \"<p>Long story short you cannot, the best thing you can do is send an embed With the URL.</p>\\n<pre class=\\\"lang-py prettyprint-override\\\"><code>@client.command()\\nasync def open(ctx, pagelink):\\n    page = pagelink\\n    if pagelink == 'yt':\\n        page = ('https://www.youtube.com/')\\n    elif pagelink == 'reddit':\\n        page = (&quot;https://www.reddit.com/&quot;)\\n    elif pagelink == &quot;whatsapp&quot;:\\n        page = (&quot;https://web.whatsapp.com/&quot;)\\n        \\n    embed=discord.Embed(title=&quot;Your link&quot;, url=page)\\n    await ctx.send(embed=embed)\\n</code></pre>\",\n          \"<p>This is one approach using <code>ast</code> module</p>\\n<p><strong>Ex:</strong></p>\\n<pre><code>import ast\\n\\nwith open('answers.txt', 'r') as infile:\\n    result = [ast.literal_eval(line) for line in infile if line.strip()]\\n</code></pre>\",\n          \"<p>Maybe getting these values in views.py is better than doing it in a template.\\nYou can achieve this:</p>\\n<pre><code>PowerConsumptionReport.objects.all().aggregate(Avg('power '))\\nPowerConsumptionReport.objects.all().aggregate(Min('power '))\\nPowerConsumptionReport.objects.all().aggregate(Max('power '))\\n</code></pre>\"\n        ],\n        \"semantic_type\": \"\",\n        \"description\": \"\"\n      }\n    }\n  ]\n}"
            }
          },
          "metadata": {},
          "execution_count": 56
        }
      ]
    },
    {
      "cell_type": "markdown",
      "source": [
        "### **Adding Instructions**\n",
        "\n",
        "* Instructions for LLMs have been shown to improve model performance and generalization to unseen tasks (Google, 2022).\n",
        "* Wihtout the instruction, it is only question and answer. Model might not understand what to do.\n",
        "* With the instructions, the model gets a guideline as to what task to perform."
      ],
      "metadata": {
        "id": "sF1Pj2d64mP5"
      }
    },
    {
      "cell_type": "code",
      "source": [
        "INSTRUCTION_TEMPLATE = f\"\"\"\\\n",
        "Please answer the following Stackoverflow question on Python. \\\n",
        "Answer it like you are a developer answering Stackoverflow questions.\n",
        "​\n",
        "Stackoverflow question:\n",
        "\"\"\""
      ],
      "metadata": {
        "id": "pr9Rcnox4s5i"
      },
      "execution_count": 57,
      "outputs": []
    },
    {
      "cell_type": "markdown",
      "source": [
        "A new column will combine INSTRUCTION_TEMPLATE and the question input_text.\n",
        "This avoids overwritting of any existing column which might be needed."
      ],
      "metadata": {
        "id": "R6cvU5Kp4xTq"
      }
    },
    {
      "cell_type": "code",
      "source": [
        "stack_overflow_df['input_text_instruct'] = INSTRUCTION_TEMPLATE + ' '\\\n",
        "    + stack_overflow_df['input_text']"
      ],
      "metadata": {
        "id": "VMk7raW2412B"
      },
      "execution_count": 58,
      "outputs": []
    },
    {
      "cell_type": "markdown",
      "source": [
        "### **Dataset for Tuning**\n",
        "\n",
        "* Divide the data into a training and evaluation. By default, 80/20 split is used.\n",
        "* This (80/20 split) allows for more data to be used for tuning. The evaluation split is used as unseen data during tuning to evaluate performance.\n",
        "* The random_state parameter is used to ensure random sampling for a fair comparison."
      ],
      "metadata": {
        "id": "_Z9g49Qe43h0"
      }
    },
    {
      "cell_type": "code",
      "source": [
        "from sklearn.model_selection import train_test_split\n",
        "\n",
        "train, evaluation = train_test_split(\n",
        "    stack_overflow_df,\n",
        "    test_size=0.2,\n",
        "    random_state=42\n",
        ")"
      ],
      "metadata": {
        "id": "AeBJoaSB49Tr"
      },
      "execution_count": 60,
      "outputs": []
    },
    {
      "cell_type": "markdown",
      "source": [
        "### **Different Datasets and Flow**\n",
        "\n",
        "* Versioning data is important.\n",
        "* It allows for reproducibility, traceability, and maintainability of machine learning models.\n",
        "* Get the timestamp."
      ],
      "metadata": {
        "id": "zFnCK3tX4-xo"
      }
    },
    {
      "cell_type": "code",
      "source": [
        "import datetime\n",
        "date = datetime.datetime.now().strftime(\"%H:%d:%m:%Y\")"
      ],
      "metadata": {
        "id": "tPhaJj2B5FLN"
      },
      "execution_count": 61,
      "outputs": []
    },
    {
      "cell_type": "markdown",
      "source": [
        "Generate a jsonl file.\n",
        "Name it as tune_data_stack_overflow_python_qa-{date}"
      ],
      "metadata": {
        "id": "Ts2nwMsF5HHx"
      }
    },
    {
      "cell_type": "code",
      "source": [
        "cols = ['input_text_instruct','output_text']\n",
        "tune_jsonl = train[cols].to_json(orient=\"records\", lines=True)"
      ],
      "metadata": {
        "id": "sO7PkH6X5P6R"
      },
      "execution_count": 62,
      "outputs": []
    },
    {
      "cell_type": "code",
      "source": [
        "training_data_filename = f\"tune_data_stack_overflow_\\\n",
        "                            python_qa-{date}.jsonl\""
      ],
      "metadata": {
        "id": "DlXKAv5L5Q9X"
      },
      "execution_count": 63,
      "outputs": []
    },
    {
      "cell_type": "code",
      "source": [
        "with open(training_data_filename, \"w\") as f:\n",
        "    f.write(tune_jsonl)"
      ],
      "metadata": {
        "id": "zXx8uh0D5Sm5"
      },
      "execution_count": 64,
      "outputs": []
    },
    {
      "cell_type": "markdown",
      "source": [
        "### **For Evaluation Set**\n",
        "\n",
        "The code above generted a jsonl file for the train set. Now, make the evaluation set, which you can name as tune_eval_data_stack_overflow_python_qa-{date}.jsonl."
      ],
      "metadata": {
        "id": "jXMWLyA05gSG"
      }
    },
    {
      "cell_type": "code",
      "source": [
        "cols = ['input_text_instruct','output_text']\n",
        "\n",
        "### you need to use the \"evaluation\" set now\n",
        "tune_jsonl = evaluation[cols].to_json(orient=\"records\", lines=True)\n",
        "\n",
        "### change the file name\n",
        "evaluation_data_filename = f\"tune_eval_data_stack_overflow_\\\n",
        "                            python_qa-{date}.jsonl\"\n",
        "\n",
        "### write the file\n",
        "with open(evaluation_data_filename, \"w\") as f:\n",
        "    f.write(tune_jsonl)"
      ],
      "metadata": {
        "id": "vzakDWVm5f0m"
      },
      "execution_count": 65,
      "outputs": []
    },
    {
      "cell_type": "code",
      "source": [],
      "metadata": {
        "id": "YDFas-bSQsPY"
      },
      "execution_count": null,
      "outputs": []
    },
    {
      "cell_type": "markdown",
      "source": [
        "# **Part 2: Automation & Orchestration with Pipelines**"
      ],
      "metadata": {
        "id": "ZaGvcyGoRkag"
      }
    },
    {
      "cell_type": "code",
      "source": [],
      "metadata": {
        "id": "Rh_cMl5aRmcO"
      },
      "execution_count": null,
      "outputs": []
    }
  ]
}